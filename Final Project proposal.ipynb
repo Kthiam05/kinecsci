{
 "cells": [
  {
   "cell_type": "code",
   "execution_count": null,
   "id": "cb728603-d15f-4895-b9dd-34b09fc25fbb",
   "metadata": {},
   "outputs": [],
   "source": [
    "#1: Working alone\n",
    "\n",
    "#2: https://www.kaggle.com/datasets/nelgiriyewithana/new-york-housing-market\n",
    "\n",
    "#3: Hypothesis:\n",
    "#Null: In the New York Housing Market the prices of the home do not correlate with the title of the broker and type of housing. \n",
    "#Alternative: In the New York Housing Market the prices of the homes significantly depend on the neighborhood, square footage, and number of bedrooms and bathrooms. \n",
    "#(Proving alternative hypothesis to be true) \n",
    "\n",
    "#4: Models - Data modeling (Creates a simplified visual for data) \n",
    "# - Tree modeling (Predicts an accurate target value for the value of a home)"
   ]
  }
 ],
 "metadata": {
  "kernelspec": {
   "display_name": "Python 3 (ipykernel)",
   "language": "python",
   "name": "python3"
  },
  "language_info": {
   "codemirror_mode": {
    "name": "ipython",
    "version": 3
   },
   "file_extension": ".py",
   "mimetype": "text/x-python",
   "name": "python",
   "nbconvert_exporter": "python",
   "pygments_lexer": "ipython3",
   "version": "3.12.1"
  }
 },
 "nbformat": 4,
 "nbformat_minor": 5
}
