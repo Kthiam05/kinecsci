{
 "cells": [
  {
   "cell_type": "markdown",
   "metadata": {},
   "source": [
    "### Homework 3 Numpy Arrays and Pandas\n",
    "\n",
    "1. Open `cars.csv` in jupyter and look at the data. (Double click `cars.csv` to open in a new tab).\n",
    "2. We are converting each **column** into a numpy array.\n",
    "3. Notice we have text, integer and float data. \n",
    "4. Take care not to overwrite your starter code."
   ]
  },
  {
   "cell_type": "code",
   "execution_count": 10,
   "metadata": {},
   "outputs": [],
   "source": [
    "#Starter code. Do NOT modify this cell\n",
    "import pandas as pd\n",
    "import numpy as np\n",
    "\n",
    "# Read in dataset\n",
    "df = pd.read_csv('cars.csv',delimiter=';')\n",
    "\n",
    "# Convert each column to an np.array\n",
    "car = df.Car.to_numpy()\n",
    "mpg = df.MPG.to_numpy()\n",
    "cylinders = df.Cylinders.to_numpy()\n",
    "displacement = df.Displacement.to_numpy()\n",
    "horsepower = df.Horsepower.to_numpy()\n",
    "weight = df.Weight.to_numpy()\n",
    "acceleration = df.Acceleration.to_numpy()\n",
    "model = df.Model.to_numpy()\n",
    "origin = df.Origin.to_numpy()\n",
    "\n",
    "# create an array of headers\n",
    "headers = np.array(['Car', 'MPG', 'Cylinders', 'Displacement', 'Horsepower', 'Weight','Acceleration', 'Model', 'Origin'])\n"
   ]
  },
  {
   "cell_type": "markdown",
   "metadata": {},
   "source": [
    "1. (2 pts) What are the numpy datatypes for the `car`,`mpg`, `horsepower` and `origin` arrays? (Hint: Not `type(car)` and use `print()` to print the numpy type.)"
   ]
  },
  {
   "cell_type": "code",
   "execution_count": 11,
   "metadata": {},
   "outputs": [
    {
     "name": "stdout",
     "output_type": "stream",
     "text": [
      "Data type of 'car' array: object\n",
      "Data type of 'mpg' array: float64\n",
      "Data type of 'horsepower' array: float64\n",
      "Data type of 'origin' array: object\n"
     ]
    }
   ],
   "source": [
    "car_dtype = car.dtype\n",
    "mpg_dtype = mpg.dtype\n",
    "horsepower_dtype = horsepower.dtype\n",
    "origin_dtype = origin.dtype\n",
    "\n",
    "print(\"Data type of 'car' array:\", car_dtype)\n",
    "print(\"Data type of 'mpg' array:\", mpg_dtype)\n",
    "print(\"Data type of 'horsepower' array:\", horsepower_dtype)\n",
    "print(\"Data type of 'origin' array:\", origin_dtype)"
   ]
  },
  {
   "cell_type": "markdown",
   "metadata": {},
   "source": [
    "2. (1 pt) `numpy` is often imported as `np`. What is this action called? Why might you do this? "
   ]
  },
  {
   "cell_type": "code",
   "execution_count": null,
   "metadata": {},
   "outputs": [],
   "source": [
    "#This action is called aliasing. It allows you to call out a function without writing the full term. It also allows for better readability. "
   ]
  },
  {
   "cell_type": "markdown",
   "metadata": {},
   "source": [
    "3. (2 pts) Each of the arrays (cars, mpg, cylinders, etc..) has how many dimensions? Show how to find this using code. "
   ]
  },
  {
   "cell_type": "code",
   "execution_count": 16,
   "metadata": {},
   "outputs": [
    {
     "name": "stdout",
     "output_type": "stream",
     "text": [
      "Number of dimensions for 'car' array: 1\n",
      "Number of dimensions for 'mpg' array: 1\n",
      "Number of dimensions for 'cylinders' array: 1\n",
      "Number of dimensions for 'horsepower' array: 1\n",
      "Number of dimensions for 'weight' array: 1\n",
      "Number of dimensions for 'acceleration' array: 1\n",
      "Number of dimesions for 'model' array: 1\n",
      "Number of dimensions for origin' array: 1\n"
     ]
    }
   ],
   "source": [
    "car_ndim = car.ndim\n",
    "mpg_ndim = mpg.ndim\n",
    "cylinders_ndim = cylinders.ndim\n",
    "displacement_ndim = displacement.ndim\n",
    "horsepower_ndim = horsepower.ndim\n",
    "weight_ndim = weight.ndim\n",
    "acceleration_ndim = acceleration.ndim\n",
    "model_ndim = model.ndim\n",
    "origin_ndim = origin.ndim\n",
    "\n",
    "print(\"Number of dimensions for 'car' array:\", car_ndim)\n",
    "print(\"Number of dimensions for 'mpg' array:\", mpg_ndim)\n",
    "print(\"Number of dimensions for 'cylinders' array:\", cylinders_ndim)\n",
    "print(\"Number of dimensions for 'horsepower' array:\", horsepower_ndim)\n",
    "print(\"Number of dimensions for 'weight' array:\", weight_ndim)\n",
    "print(\"Number of dimensions for 'acceleration' array:\", acceleration_ndim)\n",
    "print(\"Number of dimesions for 'model' array:\", model_ndim)\n",
    "print(\"Number of dimensions for origin' array:\", origin_ndim)"
   ]
  },
  {
   "cell_type": "markdown",
   "metadata": {},
   "source": [
    "4. (3 pts) What is the ___ of `horsepower`?\n",
    "- sum\n",
    "- min\n",
    "- max\n",
    "- median\n",
    "- Optional: mode (May need to google help) (1 pt extra credit)"
   ]
  },
  {
   "cell_type": "code",
   "execution_count": 20,
   "metadata": {},
   "outputs": [
    {
     "name": "stdout",
     "output_type": "stream",
     "text": [
      "Sum of 'horsepower': 42033.0\n",
      "Minimum 'horsepower': 0.0\n",
      "Maximum 'horsepower': 230.0\n",
      "Median 'horsepower': 93.5\n",
      "Mode 'horsepower': 150.0\n"
     ]
    }
   ],
   "source": [
    "import numpy as np\n",
    "\n",
    "horsepower_sum = np.sum(horsepower)\n",
    "\n",
    "horsepower_min = np.min(horsepower)\n",
    "\n",
    "horsepower_max = np.max(horsepower)\n",
    "\n",
    "horsepower_median = np.median(horsepower)\n",
    "import statistics as st\n",
    "horsepower_mode = st.mode(horsepower)\n",
    "\n",
    "print(\"Sum of 'horsepower':\", horsepower_sum)\n",
    "print(\"Minimum 'horsepower':\", horsepower_min)\n",
    "print(\"Maximum 'horsepower':\", horsepower_max)\n",
    "print(\"Median 'horsepower':\", horsepower_median) \n",
    "print(\"Mode 'horsepower':\", horsepower_mode)"
   ]
  },
  {
   "cell_type": "markdown",
   "metadata": {},
   "source": [
    "5. (2 pts) Select the last element in each subarray (do this with one operation.)"
   ]
  },
  {
   "cell_type": "code",
   "execution_count": 21,
   "metadata": {},
   "outputs": [],
   "source": [
    "select_more = np.array([[1,2,3],\n",
    "                      [4,5,6],\n",
    "                      [7,8,9]])\n",
    "# returns array([3, 6, 9])"
   ]
  },
  {
   "cell_type": "code",
   "execution_count": 15,
   "metadata": {},
   "outputs": [
    {
     "name": "stdout",
     "output_type": "stream",
     "text": [
      "[3 6 9]\n"
     ]
    }
   ],
   "source": [
    "import numpy as np\n",
    "\n",
    "select_more = np.array([[1,2,3],\n",
    "                      [4,5,6],\n",
    "                      [7,8,9]])\n",
    "last_elements = select_more [:, -1]\n",
    "\n",
    "print(last_elements)"
   ]
  },
  {
   "cell_type": "markdown",
   "metadata": {},
   "source": [
    "6. (2 pts) Use the built-in `np.lookfor()` function to search for `'log'`.\n",
    "\n",
    "Use the function you find and apply it to `mpg`."
   ]
  },
  {
   "cell_type": "code",
   "execution_count": 21,
   "metadata": {},
   "outputs": [
    {
     "name": "stdout",
     "output_type": "stream",
     "text": [
      "Search results for 'log'\n",
      "------------------------\n",
      "numpy.log\n",
      "    Natural logarithm, element-wise.\n",
      "numpy.log2\n",
      "    Base-2 logarithm of `x`.\n",
      "numpy.log10\n",
      "    Return the base 10 logarithm of the input array, element-wise.\n",
      "numpy.log1p\n",
      "    Return the natural logarithm of one plus the input array, element-wise.\n",
      "numpy.logspace\n",
      "    Return numbers spaced evenly on a log scale.\n",
      "numpy.logaddexp\n",
      "    Logarithm of the sum of exponentiations of the inputs.\n",
      "numpy.logaddexp2\n",
      "    Logarithm of the sum of exponentiations of the inputs in base-2.\n",
      "numpy.logical_or\n",
      "    Compute the truth value of x1 OR x2 element-wise.\n",
      "numpy.logical_and\n",
      "    Compute the truth value of x1 AND x2 element-wise.\n",
      "numpy.logical_not\n",
      "    Compute the truth value of NOT x element-wise.\n",
      "numpy.logical_xor\n",
      "    Compute the truth value of x1 XOR x2, element-wise.\n",
      "numpy.ma.log\n",
      "    Natural logarithm, element-wise.\n",
      "numpy.ma.log2\n",
      "    Base-2 logarithm of `x`.\n",
      "numpy.ma.log10\n",
      "    Return the base 10 logarithm of the input array, element-wise.\n",
      "numpy.recarray\n",
      "    Construct an ndarray that allows field access using attributes.\n",
      "numpy.geomspace\n",
      "    Return numbers spaced evenly on a log scale (a geometric progression).\n",
      "numpy.array_api.log\n",
      "    Array API compatible wrapper for :py:func:`np.log <numpy.log>`.\n",
      "numpy.seterrcall\n",
      "    Set the floating-point error callback function or log object.\n",
      "numpy.array_api.log2\n",
      "    Array API compatible wrapper for :py:func:`np.log2 <numpy.log2>`.\n",
      "numpy.array_api.log10\n",
      "    Array API compatible wrapper for :py:func:`np.log10 <numpy.log10>`.\n",
      "numpy.array_api.log1p\n",
      "    Array API compatible wrapper for :py:func:`np.log1p <numpy.log1p>`.\n",
      "numpy.ma.logical_or\n",
      "    Compute the truth value of x1 OR x2 element-wise.\n",
      "numpy.linalg.slogdet\n",
      "    Compute the sign and (natural) logarithm of the determinant of an array.\n",
      "numpy.ma.logical_and\n",
      "    Compute the truth value of x1 AND x2 element-wise.\n",
      "numpy.ma.logical_not\n",
      "    Compute the truth value of NOT x element-wise.\n",
      "numpy.ma.logical_xor\n",
      "    Compute the truth value of x1 XOR x2, element-wise.\n",
      "numpy.ma.mask_or\n",
      "    Combine two masks with the ``logical_or`` operator.\n",
      "numpy.array_api.logaddexp\n",
      "    Array API compatible wrapper for :py:func:`np.logaddexp <numpy.logaddexp>`.\n",
      "numpy.array_api.logical_or\n",
      "    Array API compatible wrapper for :py:func:`np.logical_or <numpy.logical_or>`.\n",
      "numpy.array_api.logical_and\n",
      "    Array API compatible wrapper for :py:func:`np.logical_and <numpy.logical_and>`.\n",
      "numpy.array_api.logical_not\n",
      "    Array API compatible wrapper for :py:func:`np.logical_not <numpy.logical_not>`.\n",
      "numpy.array_api.logical_xor\n",
      "    Array API compatible wrapper for :py:func:`np.logical_xor <numpy.logical_xor>`.\n",
      "numpy.array_api.linalg.slogdet\n",
      "    Array API compatible wrapper for :py:func:`np.linalg.slogdet <numpy.linalg.slogdet>`.\n",
      "numpy.random.Generator.logistic\n",
      "    Draw samples from a logistic distribution.\n",
      "numpy.random.Generator.lognormal\n",
      "    Draw samples from a log-normal distribution.\n",
      "numpy.random.Generator.logseries\n",
      "    Draw samples from a logarithmic series distribution.\n",
      "numpy.linalg._umath_linalg.slogdet\n",
      "    slogdet on the last two dimensions and broadcast on the rest.\n",
      "numpy.random.RandomState.logistic\n",
      "    Draw samples from a logistic distribution.\n",
      "numpy.random.RandomState.lognormal\n",
      "    Draw samples from a log-normal distribution.\n",
      "numpy.random.RandomState.logseries\n",
      "    Draw samples from a logarithmic series distribution.\n",
      "numpy.all\n",
      "    Test whether all array elements along a given axis evaluate to True.\n",
      "numpy.any\n",
      "    Test whether any array element along a given axis evaluates to True.\n",
      "numpy.exp\n",
      "    Calculate the exponential of all elements in the input array.\n",
      "numpy.in1d\n",
      "    Test whether each element of a 1-D array is also present in a second array.\n",
      "numpy.isin\n",
      "    Calculates ``element in test_elements``, broadcasting over `element` only.\n",
      "numpy.sort\n",
      "    Return a sorted copy of an array.\n",
      "numpy.expm1\n",
      "    Calculate ``exp(x) - 1`` for all elements in the array.\n",
      "numpy.isnan\n",
      "    Test element-wise for NaN and return result as a boolean array.\n",
      "numpy.testing.suppress_warnings.record\n",
      "    Append a new recording filter or apply it if the state is entered.\n",
      "numpy.geterr\n",
      "    Get the current way of handling floating-point errors.\n",
      "numpy.kaiser\n",
      "    Return the Kaiser window.\n",
      "numpy.seterr\n",
      "    Set how floating-point errors are handled.\n",
      "numpy.hamming\n",
      "    Return the Hamming window.\n",
      "numpy.hanning\n",
      "    Return the Hanning window.\n",
      "numpy.bartlett\n",
      "    Return the Bartlett window.\n",
      "numpy.blackman\n",
      "    Return the Blackman window.\n",
      "numpy.errstate\n",
      "    errstate(**kwargs)\n",
      "numpy.isfinite\n",
      "    Test element-wise for finiteness (not infinity and not Not a Number).\n",
      "numpy.linspace\n",
      "    Return evenly spaced numbers over a specified interval.\n",
      "numpy.packbits\n",
      "    Packs the elements of a binary-valued array into bits in a uint8 array.\n",
      "numpy.geterrobj\n",
      "    geterrobj()\n",
      "numpy.seterrobj\n",
      "    Set the object that defines floating-point error handling.\n",
      "numpy.bitwise_or\n",
      "    Compute the bit-wise OR of two arrays element-wise.\n",
      "numpy.geterrcall\n",
      "    Return the current callback function used on floating-point errors.\n",
      "numpy.bitwise_and\n",
      "    Compute the bit-wise AND of two arrays element-wise.\n",
      "numpy.bitwise_not\n",
      "    Compute bit-wise inversion, or bit-wise NOT, element-wise.\n",
      "numpy.bitwise_xor\n",
      "    Compute the bit-wise XOR of two arrays element-wise.\n",
      "numpy.histogram2d\n",
      "    Compute the bi-dimensional histogram of two data samples.\n",
      "numpy.ma.exp\n",
      "    Calculate the exponential of all elements in the input array.\n",
      "numpy.fft.fft2\n",
      "    Compute the 2-dimensional discrete Fourier Transform.\n",
      "numpy.fft.fftn\n",
      "    Compute the N-dimensional discrete Fourier Transform.\n",
      "numpy.fft.hfft\n",
      "    Compute the FFT of a signal that has Hermitian symmetry, i.e., a real\n",
      "numpy.fft.ifft2\n",
      "    Compute the 2-dimensional inverse discrete Fourier Transform.\n",
      "numpy.fft.ifftn\n",
      "    Compute the N-dimensional inverse discrete Fourier Transform.\n",
      "numpy.fft.ihfft\n",
      "    Compute the inverse FFT of a signal that has Hermitian symmetry.\n",
      "numpy.linalg.det\n",
      "    Compute the determinant of an array.\n",
      "numpy.matrix.any\n",
      "    Test whether any array element along a given axis evaluates to True.\n",
      "numpy.byte.bit_count\n",
      "    int8.bit_count() -> int\n",
      "numpy.ma.bitwise_or\n",
      "    Compute the bit-wise OR of two arrays element-wise.\n",
      "numpy.histogram_bin_edges\n",
      "    Function to calculate only the edges of the bins used by the `histogram`\n",
      "numpy.ma.bitwise_and\n",
      "    Compute the bit-wise AND of two arrays element-wise.\n",
      "numpy.ma.bitwise_xor\n",
      "    Compute the bit-wise XOR of two arrays element-wise.\n",
      "numpy.int16.bit_count\n",
      "    int16.bit_count() -> int\n",
      "numpy.int32.bit_count\n",
      "    int32.bit_count() -> int\n",
      "numpy.int64.bit_count\n",
      "    int64.bit_count() -> int\n",
      "numpy.uint.bit_count\n",
      "    uint64.bit_count() -> int\n",
      "numpy.ubyte.bit_count\n",
      "    uint8.bit_count() -> int\n",
      "numpy.uint16.bit_count\n",
      "    uint16.bit_count() -> int\n",
      "numpy.uint32.bit_count\n",
      "    uint32.bit_count() -> int\n",
      "numpy.random.RandomState\n",
      "    Container for the slow Mersenne Twister pseudo-random number generator.\n",
      "numpy.random.SeedSequence\n",
      "    SeedSequence mixes sources of entropy in a reproducible way to set the\n",
      "numpy.testing.suppress_warnings\n",
      "    Context manager and decorator doing much the same as\n",
      "numpy.random.Generator.wald\n",
      "    Draw samples from a Wald, or inverse Gaussian, distribution.\n",
      "numpy.random.Generator.zipf\n",
      "    Draw samples from a Zipf distribution.\n",
      "numpy.random.Generator.power\n",
      "    Draws samples in [0, 1] from a power distribution with positive\n",
      "numpy.random.Generator.gumbel\n",
      "    Draw samples from a Gumbel distribution.\n",
      "numpy.random.RandomState.wald\n",
      "    Draw samples from a Wald, or inverse Gaussian, distribution.\n",
      "numpy.random.RandomState.zipf\n",
      "    Draw samples from a Zipf distribution.\n",
      "numpy.random.RandomState.power\n",
      "    Draws samples in [0, 1] from a power distribution with positive\n",
      "numpy.random.Generator.vonmises\n",
      "    Draw samples from a von Mises distribution.\n",
      "numpy.random.RandomState.gumbel\n",
      "    Draw samples from a Gumbel distribution.\n",
      "numpy.random.RandomState.vonmises\n",
      "    Draw samples from a von Mises distribution.\n",
      "numpy.random.Generator.exponential\n",
      "    Draw samples from an exponential distribution.\n",
      "numpy.random.RandomState.exponential\n",
      "    Draw samples from an exponential distribution.\n",
      "numpy.random.Generator.multivariate_normal\n",
      "    multivariate_normal(mean, cov, size=None, check_valid='warn',\n",
      "numpy.random.RandomState.multivariate_normal\n",
      "    Draw random samples from a multivariate normal distribution."
     ]
    },
    {
     "name": "stderr",
     "output_type": "stream",
     "text": [
      "/var/folders/19/_33mhsx56q96g7nyjyp76kyc0000gn/T/ipykernel_89010/3186263438.py:2: RuntimeWarning: divide by zero encountered in log10\n",
      "  a = np.array(np.log10(mpg))\n"
     ]
    },
    {
     "data": {
      "text/plain": [
       "array([1.25527251, 1.17609126, 1.25527251, 1.20411998, 1.23044892,\n",
       "       1.17609126, 1.14612804, 1.14612804, 1.14612804, 1.17609126,\n",
       "             -inf,       -inf,       -inf,       -inf,       -inf,\n",
       "       1.17609126, 1.14612804,       -inf, 1.17609126, 1.14612804,\n",
       "       1.38021124, 1.34242268, 1.25527251, 1.32221929, 1.43136376,\n",
       "       1.41497335, 1.39794001, 1.38021124, 1.39794001, 1.41497335,\n",
       "       1.32221929, 1.        , 1.        , 1.04139269, 0.95424251,\n",
       "       1.43136376, 1.44715803, 1.39794001, 1.39794001,       -inf,\n",
       "       1.2787536 , 1.20411998, 1.23044892, 1.2787536 , 1.25527251,\n",
       "       1.14612804, 1.14612804, 1.14612804, 1.14612804, 1.07918125,\n",
       "       1.11394335, 1.11394335, 1.25527251, 1.34242268, 1.2787536 ,\n",
       "       1.25527251, 1.36172784, 1.44715803, 1.47712125, 1.47712125,\n",
       "       1.49136169, 1.54406804, 1.43136376, 1.41497335, 1.38021124,\n",
       "       1.39794001, 1.36172784, 1.30103   , 1.32221929, 1.11394335,\n",
       "       1.14612804, 1.17609126, 1.14612804, 1.23044892, 1.04139269,\n",
       "       1.11394335, 1.07918125, 1.11394335, 1.2787536 , 1.17609126,\n",
       "       1.11394335, 1.11394335, 1.14612804, 1.25527251, 1.34242268,\n",
       "       1.32221929, 1.41497335, 1.34242268, 1.44715803, 1.36172784,\n",
       "       1.44715803, 1.43136376, 1.11394335, 1.14612804, 1.11394335,\n",
       "       1.14612804, 1.17609126, 1.07918125, 1.11394335, 1.11394335,\n",
       "       1.14612804, 1.11394335, 1.07918125, 1.11394335, 1.25527251,\n",
       "       1.20411998, 1.25527251, 1.25527251, 1.36172784, 1.41497335,\n",
       "       1.04139269, 1.07918125, 1.11394335, 1.07918125, 1.25527251,\n",
       "       1.30103   , 1.32221929, 1.34242268, 1.25527251, 1.2787536 ,\n",
       "       1.32221929, 1.41497335, 1.17609126, 1.20411998, 1.462398  ,\n",
       "       1.38021124, 1.30103   , 1.2787536 , 1.17609126, 1.38021124,\n",
       "       1.30103   , 1.04139269, 1.30103   , 1.32221929, 1.2787536 ,\n",
       "       1.17609126, 1.49136169, 1.41497335, 1.50514998, 1.39794001,\n",
       "       1.20411998, 1.20411998, 1.25527251, 1.20411998, 1.11394335,\n",
       "       1.14612804, 1.14612804, 1.14612804, 1.462398  , 1.41497335,\n",
       "       1.41497335, 1.49136169, 1.50514998, 1.44715803, 1.38021124,\n",
       "       1.41497335, 1.38021124, 1.41497335, 1.49136169, 1.2787536 ,\n",
       "       1.25527251, 1.17609126, 1.17609126, 1.20411998, 1.17609126,\n",
       "       1.20411998, 1.14612804, 1.23044892, 1.20411998, 1.17609126,\n",
       "       1.25527251, 1.32221929, 1.30103   , 1.11394335, 1.462398  ,\n",
       "       1.36172784, 1.30103   , 1.36172784, 1.38021124, 1.39794001,\n",
       "       1.38021124, 1.25527251, 1.462398  , 1.2787536 , 1.36172784,\n",
       "       1.36172784, 1.34242268, 1.39794001, 1.51851394, 1.44715803,\n",
       "       1.39794001, 1.39794001, 1.41497335, 1.43136376, 1.24303805,\n",
       "       1.20411998, 1.1903317 , 1.161368  , 1.34242268, 1.34242268,\n",
       "       1.38021124, 1.35218252, 1.462398  , 1.38916608, 1.462398  ,\n",
       "       1.51851394, 1.30103   , 1.25527251, 1.26717173, 1.24303805,\n",
       "       1.46982202, 1.50514998, 1.44715803, 1.42324587, 1.30103   ,\n",
       "       1.11394335, 1.2787536 , 1.2787536 , 1.21748394, 1.21748394,\n",
       "       1.11394335, 1.11394335, 1.11394335, 1.49831055, 1.47712125,\n",
       "       1.5563025 , 1.40654018, 1.52504481, 1.24303805, 1.23044892,\n",
       "       1.1903317 , 1.17609126, 1.24303805, 1.31175386, 1.2787536 ,\n",
       "       1.26717173, 1.20411998, 1.1903317 , 1.1903317 , 1.20411998,\n",
       "       1.462398  , 1.38916608, 1.41497335, 1.40654018, 1.48429984,\n",
       "       1.52504481, 1.47712125, 1.48429984, 1.34242268, 1.33243846,\n",
       "       1.33243846, 1.63447727, 1.5575072 , 1.51587384, 1.59549622,\n",
       "       1.5575072 , 1.29885308, 1.28780173, 1.30535137, 1.28330123,\n",
       "       1.31175386, 1.30535137, 1.39967372, 1.31175386, 1.28780173,\n",
       "       1.31386722, 1.31806333, 1.26951294, 1.25767857, 1.28330123,\n",
       "       1.24797327, 1.25767857, 1.24303805, 1.47712125, 1.43933269,\n",
       "       1.4345689 , 1.48995848, 1.32428246, 1.36548798, 1.37657696,\n",
       "       1.3783979 , 1.30749604, 1.23044892, 1.33445375, 1.20951501,\n",
       "       1.49831055, 1.46982202, 1.33243846, 1.29666519, 1.34830486,\n",
       "       1.30535137, 1.31386722, 1.23044892, 1.24551267, 1.21748394,\n",
       "       1.26007139, 1.2278867 , 1.1903317 , 1.28330123, 1.26717173,\n",
       "       1.50379068, 1.53275438, 1.55266822, 1.43775056, 1.40483372,\n",
       "       1.36172784, 1.4345689 , 1.3783979 , 1.53402611, 1.5378191 ,\n",
       "       1.50242712, 1.57170883, 1.45331834, 1.45939249, 1.42813479,\n",
       "       1.52504481, 1.6180481 , 1.58092498, 1.50650503, 1.57054294,\n",
       "       1.44715803, 1.42160393, 1.38560627, 1.28103337, 1.53529412,\n",
       "       1.47421626, 1.49554434, 1.56820172, 1.50785587, 1.66838592,\n",
       "       1.4456042 , 1.61066016, 1.64640373, 1.63748973, 1.56110138,\n",
       "       1.47712125, 1.64933486, 1.61172331, 1.5289167 , 1.47421626,\n",
       "       1.51454775, 1.37474835, 1.54406804, 1.372912  , 1.51054501,\n",
       "       1.4345689 , 1.42488164, 1.41161971, 1.37106786, 1.47712125,\n",
       "       1.59217676, 1.59106461, 1.54530712, 1.50920252, 1.56820172,\n",
       "       1.57634135, 1.53275438, 1.54032947, 1.53655844, 1.47567119,\n",
       "       1.51851394, 1.5378191 , 1.5276299 , 1.51054501, 1.5171959 ,\n",
       "       1.49968708, 1.44870632,       -inf, 1.48713838, 1.40483372,\n",
       "       1.38381537, 1.35024802, 1.42488164, 1.30535137, 1.24551267,\n",
       "       1.44715803, 1.43136376, 1.53147892, 1.49136169, 1.462398  ,\n",
       "       1.43136376, 1.38021124, 1.36172784, 1.5563025 , 1.56820172,\n",
       "       1.49136169, 1.5797836 , 1.5563025 , 1.5563025 , 1.5563025 ,\n",
       "       1.53147892, 1.5797836 , 1.50514998, 1.5797836 , 1.39794001,\n",
       "       1.5797836 , 1.41497335, 1.34242268, 1.50514998, 1.5563025 ,\n",
       "       1.43136376, 1.43136376, 1.64345268, 1.50514998, 1.44715803,\n",
       "       1.49136169])"
      ]
     },
     "execution_count": 21,
     "metadata": {},
     "output_type": "execute_result"
    }
   ],
   "source": [
    "np.lookfor('log')\n",
    "a = np.array(np.log10(mpg))\n",
    "a"
   ]
  },
  {
   "cell_type": "markdown",
   "metadata": {},
   "source": [
    "7. (2 pts) Use boolean indexing to create an array of `True/False` using `origin` and the value 'US'."
   ]
  },
  {
   "cell_type": "code",
   "execution_count": 22,
   "metadata": {
    "scrolled": true
   },
   "outputs": [
    {
     "name": "stdout",
     "output_type": "stream",
     "text": [
      "[ True  True  True  True  True  True  True  True  True  True False  True\n",
      "  True  True  True  True  True  True  True  True False  True  True  True\n",
      " False False False False False False  True  True  True  True  True False\n",
      "  True False  True False  True  True  True  True  True  True  True  True\n",
      "  True  True  True  True  True  True  True  True  True False False False\n",
      " False False False  True False  True False  True  True  True  True  True\n",
      "  True  True  True  True  True  True False  True  True  True  True False\n",
      " False False False  True False False  True False  True  True  True  True\n",
      "  True  True  True  True  True  True  True  True  True  True  True  True\n",
      "  True False  True  True  True  True  True False  True False False  True\n",
      "  True False  True  True False False False False  True False False  True\n",
      "  True  True  True  True False  True False  True  True  True  True  True\n",
      "  True  True  True  True False False False False False  True False False\n",
      " False False False  True  True  True  True  True  True  True  True  True\n",
      "  True  True  True  True  True  True False  True  True  True False False\n",
      " False  True False  True False False False False False False False  True\n",
      "  True False  True  True  True  True  True  True  True  True  True  True\n",
      " False False  True  True  True  True False False False  True False  True\n",
      " False False False  True  True  True  True False  True False  True False\n",
      "  True  True  True  True  True  True  True  True  True  True  True  True\n",
      " False  True False  True  True  True False False False False False False\n",
      "  True False False False  True  True  True  True  True  True  True  True\n",
      "  True  True  True  True  True  True  True  True  True  True False False\n",
      "  True False  True  True False False False False False False False  True\n",
      "  True  True  True  True  True  True  True  True  True  True  True  True\n",
      " False False  True  True False  True False  True  True  True False False\n",
      "  True  True  True  True False False  True False  True  True  True  True\n",
      " False False False False False False  True False False False False False\n",
      " False False False False False False False  True False  True  True  True\n",
      "  True  True False  True False False False False False  True  True  True\n",
      " False False False False False False False False False False False  True\n",
      "  True  True  True  True  True  True  True  True  True  True  True False\n",
      " False False  True  True False False False False False False  True  True\n",
      "  True  True False  True  True  True False  True  True  True]\n"
     ]
    }
   ],
   "source": [
    "bool_arr = np.array(origin=='US')\n",
    "print(bool_arr)"
   ]
  },
  {
   "cell_type": "markdown",
   "metadata": {},
   "source": [
    "8. (2 pts) Apply your index (from above) to the `car` array. You should now only see cars that are of US origin. "
   ]
  },
  {
   "cell_type": "code",
   "execution_count": 23,
   "metadata": {},
   "outputs": [
    {
     "name": "stdout",
     "output_type": "stream",
     "text": [
      "['Chevrolet Chevelle Malibu' 'Buick Skylark 320' 'Plymouth Satellite'\n",
      " 'AMC Rebel SST' 'Ford Torino' 'Ford Galaxie 500' 'Chevrolet Impala'\n",
      " 'Plymouth Fury iii' 'Pontiac Catalina' 'AMC Ambassador DPL'\n",
      " 'Chevrolet Chevelle Concours (sw)' 'Ford Torino (sw)'\n",
      " 'Plymouth Satellite (sw)' 'AMC Rebel SST (sw)' 'Dodge Challenger SE'\n",
      " \"Plymouth 'Cuda 340\" 'Ford Mustang Boss 302' 'Chevrolet Monte Carlo'\n",
      " 'Buick Estate Wagon (sw)' 'Plymouth Duster' 'AMC Hornet' 'Ford Maverick'\n",
      " 'AMC Gremlin' 'Ford F250' 'Chevy C20' 'Dodge D200' 'Hi 1200D'\n",
      " 'Chevrolet Vega 2300' 'Ford Pinto' 'AMC Gremlin'\n",
      " 'Plymouth Satellite Custom' 'Chevrolet Chevelle Malibu' 'Ford Torino 500'\n",
      " 'AMC Matador' 'Chevrolet Impala' 'Pontiac Catalina Brougham'\n",
      " 'Ford Galaxie 500' 'Plymouth Fury iii' 'Dodge Monaco (sw)'\n",
      " 'Ford Country Squire (sw)' 'Pontiac Safari (sw)'\n",
      " 'AMC Hornet Sportabout (sw)' 'Chevrolet Vega (sw)' 'Pontiac Firebird'\n",
      " 'Ford Mustang' 'Mercury Capri 2000' 'Plymouth Cricket'\n",
      " 'Dodge Colt Hardtop' 'Chevrolet Vega' 'Ford Pinto Runabout'\n",
      " 'Chevrolet Impala' 'Pontiac Catalina' 'Plymouth Fury III'\n",
      " 'Ford Galaxie 500' 'AMC Ambassador SST' 'Mercury Marquis'\n",
      " 'Buick LeSabre Custom' 'Oldsmobile Delta 88 Royale'\n",
      " 'Chrysler Newport Royal' 'AMC Matador (sw)'\n",
      " 'Chevrolet Chevelle Concours (sw)' 'Ford Gran Torino (sw)'\n",
      " 'Plymouth Satellite Custom (sw)' 'Ford Pinto (sw)' 'Dodge Colt (sw)'\n",
      " 'Buick Century 350' 'AMC Matador' 'Chevrolet Malibu' 'Ford Gran Torino'\n",
      " 'Dodge Coronet Custom' 'Mercury Marquis Brougham'\n",
      " 'Chevrolet Caprice Classic' 'Ford LTD' 'Plymouth Fury Gran Sedan'\n",
      " 'Chrysler New Yorker Brougham' 'Buick Electra 225 Custom'\n",
      " 'AMC Ambassador Brougham' 'Plymouth Valiant' 'Chevrolet Nova Custom'\n",
      " 'AMC Hornet' 'Ford Maverick' 'Plymouth Duster' 'Chevrolet Impala'\n",
      " 'Ford Country' 'Plymouth Custom Suburb' 'Oldsmobile Vista Cruiser'\n",
      " 'AMC Gremlin' 'Chevrolet Vega' 'Ford Pinto' 'Mercury Capri v6'\n",
      " 'Chevrolet Monte Carlo S' 'Pontiac Grand Prix' 'Dodge Dart Custom'\n",
      " 'Oldsmobile Omega' 'Plymouth Duster' 'Ford Maverick' 'AMC Hornet'\n",
      " 'Chevrolet Nova' 'Ford Pinto' 'Chevrolet Vega'\n",
      " 'Chevrolet Chevelle Malibu Classic' 'AMC Matador'\n",
      " 'Plymouth Satellite Sebring' 'Ford Gran Torino'\n",
      " 'Buick Century Luxus (sw)' 'Dodge Coronet Custom (sw)'\n",
      " 'Ford Gran Torino (sw)' 'AMC Matador (sw)' 'Dodge Colt'\n",
      " 'Plymouth Valiant Custom' 'Chevrolet Nova' 'Mercury Monarch'\n",
      " 'Ford Maverick' 'Pontiac Catalina' 'Chevrolet Bel Air'\n",
      " 'Plymouth Grand Fury' 'Ford LTD' 'Buick Century'\n",
      " 'Chevrolete Chevelle Malibu' 'AMC Matador' 'Plymouth Fury'\n",
      " 'Buick Skyhawk' 'Chevrolet Monza 2+2' 'Ford Mustang II' 'Ford Pinto'\n",
      " 'AMC Gremlin' 'Pontiac Astro' 'Ford Pinto' 'AMC Pacer' 'Capri ii'\n",
      " 'Dodge Colt' 'Chevrolet Chevelle Malibu Classic' 'Dodge Coronet Brougham'\n",
      " 'AMC Matador' 'Ford Gran Torino' 'Plymouth Valiant' 'Chevrolet Nova'\n",
      " 'Ford Maverick' 'AMC Hornet' 'Chevrolet Chevette' 'Chevrolet Woody'\n",
      " 'Dodge Aspen SE' 'Ford Grenada ghia' 'Pontiac Ventura SJ' 'AMC Pacer d/l'\n",
      " 'Ford Pinto' 'Plymouth Volare Premier v8' 'Cadillac Seville'\n",
      " 'Chevrolet C10' 'Ford F108' 'Dodge D100' 'Buick Opel Isuzu Deluxe'\n",
      " 'Plymouth Arrow GS' 'Chevrolet Caprice Classic'\n",
      " 'Oldsmobile Cutlass Supreme' 'Dodge Monaco Brougham'\n",
      " 'Mercury Cougar Brougham' 'Chevrolet Concours' 'Buick Skylark'\n",
      " 'Plymouth Volare Custom' 'Ford Grenada' 'Pontiac Grand Prix LJ'\n",
      " 'Chevrolet Monte Carlo Landau' 'Chrysler Cordoba' 'Ford Thunderbird'\n",
      " 'Pontiac Sunbird Coupe' 'Ford Mustang II 2+2' 'Chevrolet Chevette'\n",
      " 'Dodge Colt m/m' 'Ford Fiesta' 'Oldsmobile Cutlass Salon Brougham'\n",
      " 'Dodge Diplomat' 'Mercury Monarch ghia' 'Pontiac Phoenix LJ'\n",
      " 'Chevrolet Malibu' 'Ford Fairmont (auto)' 'Ford Fairmont (man)'\n",
      " 'Plymouth Volare' 'AMC Concord' 'Buick Century Special' 'Mercury Zephyr'\n",
      " 'Dodge Aspen' 'AMC Concord d/l' 'Chevrolet Monte Carlo Landau'\n",
      " 'Buick Regal Sport Coupe (turbo)' 'Ford Futura' 'Dodge Magnum XE'\n",
      " 'Chevrolet Chevette' 'Dodge Omni' 'Plymouth Sapporo'\n",
      " 'Oldsmobile Starfire SX' 'Pontiac Lemans V6' 'Mercury Zephyr 6'\n",
      " 'Ford Fairmont 4' 'AMC Concord DL 6' 'Dodge Aspen 6'\n",
      " 'Chevrolet Caprice Classic' 'Ford LTD Landau' 'Mercury Grand Marquis'\n",
      " 'Dodge St. Regis' 'Buick Estate Wagon (sw)' 'Ford Country Squire (sw)'\n",
      " 'Chevrolet Malibu Classic (sw)' 'Chrysler Lebaron Town @ Country (sw)'\n",
      " 'Dodge Colt Hatchback Custom' 'AMC Spirit DL' 'Cadillac Eldorado'\n",
      " 'Oldsmobile Cutlass Salon Brougham' 'Plymouth Horizon'\n",
      " 'Plymouth Horizon TC3' 'Buick Skylark Limited' 'Chevrolet Citation'\n",
      " 'Oldsmobile Omega Brougham' 'Pontiac Phoenix' 'Chevrolet Chevette'\n",
      " 'Chevrolet Citation' 'Ford Fairmont' 'AMC Concord' 'Dodge Aspen'\n",
      " 'Dodge Colt' 'Ford Mustang Cobra' 'Plymouth Reliant' 'Buick Skylark'\n",
      " 'Dodge Aries Wagon (sw)' 'Chevrolet Citation' 'Plymouth Reliant'\n",
      " 'Plymouth Champ' 'Plymouth Horizon 4' 'Ford Escort 4W' 'Ford Escort 2H'\n",
      " 'Buick Century' 'Oldsmobile Cutlass LS' 'Ford Grenada gl'\n",
      " 'Chrysler Lebaron Salon' 'Chevrolet Cavalier' 'Chevrolet Cavalier Wagon'\n",
      " 'Chevrolet Cavalier 2-door' 'Pontiac J2000 SE Hatchback' 'Dodge Aries SE'\n",
      " 'Pontiac Phoenix' 'Ford Fairmont Futura' 'AMC Concord DL'\n",
      " 'Plymouth Horizon Miser' 'Mercury Lynx l' 'Buick Century Limited'\n",
      " 'Oldsmobile Cutlass Ciera (diesel)' 'Chrysler Lebaron Medallion'\n",
      " 'Ford Grenada l' 'Dodge Charger 2.2' 'Chevrolet Camaro' 'Ford Mustang GL'\n",
      " 'Dodge Rampage' 'Ford Ranger' 'Chevy S-10']\n"
     ]
    }
   ],
   "source": [
    "print(car[bool_arr[:]])"
   ]
  },
  {
   "cell_type": "markdown",
   "metadata": {},
   "source": [
    "### Use numpy or pandas to answer the following questions."
   ]
  },
  {
   "cell_type": "markdown",
   "metadata": {},
   "source": [
    "9. (3 pts) What is the average horsepower for `Europe` cars? (Hint: create a boolean index of 'US' apply it to horsepower and perform the calculation.)"
   ]
  },
  {
   "cell_type": "code",
   "execution_count": 25,
   "metadata": {},
   "outputs": [
    {
     "name": "stdout",
     "output_type": "stream",
     "text": [
      "78.78082191780823\n"
     ]
    }
   ],
   "source": [
    "bool= np.array(origin=='Europe')\n",
    "Average = np.mean(horsepower[bool[:]])\n",
    "print(Average)"
   ]
  },
  {
   "cell_type": "markdown",
   "metadata": {},
   "source": [
    "10. (3 pts) On average are Japanese cars more fuel-efficient than US cars? Show the code that you used to determine this.  "
   ]
  },
  {
   "cell_type": "code",
   "execution_count": 27,
   "metadata": {},
   "outputs": [
    {
     "name": "stdout",
     "output_type": "stream",
     "text": [
      "Japanese cars are more fuel-efficent\n"
     ]
    }
   ],
   "source": [
    "Japanese= np.array(origin=='Japan')\n",
    "J_eff = np.mean(mpg[Japanese[:]])\n",
    "US_cars = np.array(origin=='US')\n",
    "US_eff = np.mean(mpg[US_cars[:]])\n",
    "if J_eff> US_eff:\n",
    "    print('Japanese cars are more fuel-efficent')\n",
    "else:\n",
    "    print('US cars are more fuel-efficient')"
   ]
  },
  {
   "cell_type": "markdown",
   "metadata": {},
   "source": [
    "11. (3 pts) What is the correlation coefficient of `mpg` and `weight`? What is a correlation coefficient? What does the result indicate about the relationship between mpg and weight? "
   ]
  },
  {
   "cell_type": "code",
   "execution_count": 28,
   "metadata": {},
   "outputs": [
    {
     "data": {
      "text/plain": [
       "array([[ 1.        , -0.78750994],\n",
       "       [-0.78750994,  1.        ]])"
      ]
     },
     "execution_count": 28,
     "metadata": {},
     "output_type": "execute_result"
    }
   ],
   "source": [
    "df = pd.read_csv('cars.csv',delimiter=';')\n",
    "np.corrcoef(df['MPG'], df['Weight']) "
   ]
  },
  {
   "cell_type": "markdown",
   "metadata": {},
   "source": [
    "Extra credit: (3 pts) Create a new pandas dataframe that has the average mpg, weight, and horsepower per country of origin"
   ]
  },
  {
   "cell_type": "code",
   "execution_count": null,
   "metadata": {},
   "outputs": [],
   "source": []
  }
 ],
 "metadata": {
  "kernelspec": {
   "display_name": "Python 3 (ipykernel)",
   "language": "python",
   "name": "python3"
  },
  "language_info": {
   "codemirror_mode": {
    "name": "ipython",
    "version": 3
   },
   "file_extension": ".py",
   "mimetype": "text/x-python",
   "name": "python",
   "nbconvert_exporter": "python",
   "pygments_lexer": "ipython3",
   "version": "3.12.1"
  }
 },
 "nbformat": 4,
 "nbformat_minor": 4
}
