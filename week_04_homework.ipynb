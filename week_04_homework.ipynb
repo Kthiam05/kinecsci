{
 "cells": [
  {
   "cell_type": "code",
   "execution_count": null,
   "id": "ac8a4155-6d2f-41d5-a78b-c3fa79bf52ee",
   "metadata": {},
   "outputs": [],
   "source": [
    "#Directions:\n",
    "#1 Standardize the names of places where everyone is from\n",
    "#Standardize the pets in some way (this one will be tricky)\n",
    "#Standardize the favorite food in some way (this one will also be tricky) \n",
    "#Standardize the majors\n",
    "#Standardize the ages\n",
    "\n",
    "#2 Create 5 matplotlib or pandas visuals that represent the data. You must use at least 3 different types of visuals (pie chart, scatter plot, histogram, etc) and use proper labeling of axis and data. Write a sentence about what each visual shows about the students in the class.\n",
    "\n"
   ]
  },
  {
   "cell_type": "code",
   "execution_count": null,
   "id": "d9c372c9-4eec-4706-9ca7-93b503eb7dcd",
   "metadata": {},
   "outputs": [],
   "source": [
    "import pandas as pd\n",
    "import numpy as np\n",
    "import matplotlib.pyplot as plt\n",
    "from sklearn.preprocessing import StandardScaler\n",
    "class_survey_df = pd.read_csv('csci_1070_fall_23_survey.csv')\n",
    "class_survey_df.head()"
   ]
  }
 ],
 "metadata": {
  "kernelspec": {
   "display_name": "Python 3 (ipykernel)",
   "language": "python",
   "name": "python3"
  },
  "language_info": {
   "codemirror_mode": {
    "name": "ipython",
    "version": 3
   },
   "file_extension": ".py",
   "mimetype": "text/x-python",
   "name": "python",
   "nbconvert_exporter": "python",
   "pygments_lexer": "ipython3",
   "version": "3.12.1"
  }
 },
 "nbformat": 4,
 "nbformat_minor": 5
}
