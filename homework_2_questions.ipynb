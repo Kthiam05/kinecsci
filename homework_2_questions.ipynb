{
 "cells": [
  {
   "cell_type": "markdown",
   "id": "4d7e762c-9fc0-4cd3-b0db-89ca17152808",
   "metadata": {},
   "source": [
    "### Homework 2\n",
    "#### Loops, Functions and Classes\n",
    "\n",
    "1. Do this homework **in order**. \n",
    "2. Be sure to have a solid understanding of Functions before working with Classes.\n",
    "\n",
    "In general, I don't expect deep knowledge of classes in this class. What's covered here is roughly the extent of it. Remember, classes are a tricky concept to master in programming, but they are more straightforward in Python than many other languages. \n",
    "\n",
    "Also, do not hesitate to reach out to me for help! When I first learned to program the concepts covered in assignments like this blew my mind. If you find this difficult, you are not alone! I was once in the same boat as well. "
   ]
  },
  {
   "cell_type": "markdown",
   "id": "691e2265-ff44-4748-b16e-d0a407370fb9",
   "metadata": {},
   "source": [
    "1. (2 pts) Loop through the string and eliminate all the asterisks."
   ]
  },
  {
   "cell_type": "code",
   "execution_count": 1,
   "id": "ae0d2ee2-4281-49ad-84f2-c2abad57067d",
   "metadata": {},
   "outputs": [
    {
     "name": "stdout",
     "output_type": "stream",
     "text": [
      "My computer has gone crazy and added extra symbols.\n"
     ]
    }
   ],
   "source": [
    "asterisk = 'My *compu*ter has go*ne craz***y an*d add*ed extra *symbols.*'\n",
    "# your code here\n",
    "new_string = asterisk.replace(\"*\",\"\")\n",
    "print(new_string)"
   ]
  },
  {
   "cell_type": "markdown",
   "id": "bdec3ba8-5372-4ad9-a03b-580c04e3a431",
   "metadata": {},
   "source": [
    "2. (1 pt) Write a while loop that increments counter until it reaches 7."
   ]
  },
  {
   "cell_type": "code",
   "execution_count": 10,
   "id": "e333acd1-7e6a-4c8b-a51f-3fba6492bcc9",
   "metadata": {},
   "outputs": [
    {
     "name": "stdout",
     "output_type": "stream",
     "text": [
      "0\n",
      "1\n",
      "2\n",
      "3\n",
      "4\n",
      "5\n",
      "6\n"
     ]
    }
   ],
   "source": [
    "counter = 0\n",
    "# your code here\n",
    "while counter < 7:\n",
    "    print(counter)\n",
    "    counter += 1"
   ]
  },
  {
   "cell_type": "markdown",
   "id": "f5d8735c-5da0-47e3-a2a5-2d99561e6ce9",
   "metadata": {},
   "source": [
    "3. (3 pts) Loop over double_trouble and eliminate any 'mosquito'.\n",
    "\n",
    "Hint: check if the type of an element you are iterating through is a list. If so, iterate through it. [isinstance()](https://docs.python.org/3.4/library/functions.html#isinstance) is a good function for this. You can also use type() but its a bit odd here. "
   ]
  },
  {
   "cell_type": "code",
   "execution_count": 12,
   "id": "87d2d239-27ef-4ba8-a462-4e03967b359f",
   "metadata": {},
   "outputs": [
    {
     "name": "stdout",
     "output_type": "stream",
     "text": [
      "['cat', 'dog', ['mouse', 'bat'], ['elephant', 'dog', 'whale', 'lion', 32], 'bird', []]\n"
     ]
    }
   ],
   "source": [
    "double_trouble = ['cat','dog', ['mouse','mosquito','bat','mosquito'],['elephant','dog','whale','lion',32,'mosquito'],'bird',[],'mosquito']\n",
    "# your code here\n",
    "new_list = []\n",
    "\n",
    "for item in double_trouble:\n",
    "    if isinstance(item, list):\n",
    "\n",
    "        new_sublist = [elem for elem in item if elem != 'mosquito']\n",
    "        new_list.append(new_sublist)\n",
    "    else:\n",
    "        if item != 'mosquito':\n",
    "            new_list.append(item)\n",
    "print(new_list)"
   ]
  },
  {
   "cell_type": "markdown",
   "id": "bddaa2d7-917a-4c11-8ccc-10b926539945",
   "metadata": {},
   "source": [
    "4. (3 pts) Create a function that takes in two numbers.\n",
    "If the numbers are both even add them and return the result.\n",
    "\n",
    "If the numbers are odd, subtract the second number from the first and return the result.\n",
    "\n",
    "(Assume you'll always get integers and if you dont, return a message indicating the input is wrong)"
   ]
  },
  {
   "cell_type": "code",
   "execution_count": 16,
   "id": "7cf1850c-b7a4-4d13-8488-1ffd269fa79b",
   "metadata": {},
   "outputs": [
    {
     "name": "stdout",
     "output_type": "stream",
     "text": [
      "wrong input. please provide either two even or odd int\n"
     ]
    }
   ],
   "source": [
    "def perform_operations(n1, n2):\n",
    "    if not isinstance (n1, int) or not isinstance(n2, int):\n",
    "        return \"wrong input. Please provide two integers.\"\n",
    "\n",
    "    if n1 % 2 == 0 and n2 % 2 == 0:\n",
    "        result = n1 + n2\n",
    "    elif n1 % 2 != 0 and n2 % 2 != 0:\n",
    "        result = n1-n2\n",
    "    else:\n",
    "        return \"wrong input. please provide either two even or odd int\"\n",
    "\n",
    "    return result\n",
    "\n",
    "n1 = 18\n",
    "n2 = 7\n",
    "result = perform_operations(n1,n2)\n",
    "print(result)"
   ]
  },
  {
   "cell_type": "markdown",
   "id": "4fe68a99-b731-4768-804f-87a81099581d",
   "metadata": {},
   "source": [
    "5. (5 pts) Create a function that prints a triangle of asterisks as below. \n",
    "The function accepts n as an integer and makes the longest leg of the triangle that length, decrementing by one until you close the triangle. The function also accepts a direction for the triangle as a variable. If you pass in \"base-up\" it returns the first, but \"base-down\" returns the second.\n",
    "For example, for a triangle where n = 5, the following would be produced:"
   ]
  },
  {
   "cell_type": "code",
   "execution_count": null,
   "id": "989783e2-c5a8-4eb8-9b27-69c26863f89b",
   "metadata": {},
   "outputs": [],
   "source": [
    "#Base-up triangle\n",
    "# * * * * *\n",
    "# * * * *\n",
    "# * * *\n",
    "# * *\n",
    "# *\n",
    "\n",
    "#Base-down triangle\n",
    "# *\n",
    "# * *\n",
    "# * * *\n",
    "# * * * *\n",
    "# * * * * *\n",
    "\n",
    "def triangles(n,direction):\n",
    "    #your code here"
   ]
  },
  {
   "cell_type": "markdown",
   "id": "9cbe4104-769f-49c0-94d8-8c9750f941bc",
   "metadata": {},
   "source": [
    "6. (3 pts) Add an attribute called `age` to the `__init__` method of the `Person` class.\n",
    "\n",
    "Create an instance of `Person()` and print the `age`."
   ]
  },
  {
   "cell_type": "code",
   "execution_count": 36,
   "id": "d9857301-6a2a-424f-bf03-b8da9bcc483c",
   "metadata": {},
   "outputs": [
    {
     "name": "stdout",
     "output_type": "stream",
     "text": [
      "18\n"
     ]
    }
   ],
   "source": [
    "#class Person():\n",
    "    \n",
    "def __init__(self, name, occupation, country, age):\n",
    "         self.name = name\n",
    "         self.occupation = occupation\n",
    "         self.country = country\n",
    "         self.age = age\n",
    "        # you attribute goes here\n",
    "\n",
    "person = Person(\"kine\",\"Computer Science\", \"Senagal\", 18)\n",
    "print(person.age)"
   ]
  },
  {
   "cell_type": "markdown",
   "id": "4f0f1b43-fefa-4f47-882f-f47800543fa9",
   "metadata": {},
   "source": [
    "7. (3 pts) Add a `static` method of your choice to the class below. \n",
    "\n",
    "Instantiate an object and call your method. \n",
    "\n",
    "What is a static method? (1 pt for your answer here) "
   ]
  },
  {
   "cell_type": "code",
   "execution_count": 40,
   "id": "8bdb974b-86b6-4376-ac0e-be5982fce59b",
   "metadata": {},
   "outputs": [
    {
     "name": "stdout",
     "output_type": "stream",
     "text": [
      "Meryl Streep: This is my line...\n",
      "This is a static method.\n"
     ]
    }
   ],
   "source": [
    "class actress():\n",
    "    def __init__(self, name = 'Meryl Streep'):\n",
    "        self.name = name\n",
    "        \n",
    "    def act(self, line):\n",
    "        print(f'{self.name}: {line}')\n",
    "        \n",
    "    # your static method goes here.\n",
    "    @staticmethod\n",
    "    def static_method():\n",
    "        print(\"This is a static method.\")\n",
    "        \n",
    "meryl = actress()\n",
    "meryl.act('This is my line...')\n",
    "actress.static_method()"
   ]
  },
  {
   "cell_type": "markdown",
   "id": "d02a50c2-0df8-47cf-ba86-43c3fe9734e7",
   "metadata": {},
   "source": [
    "8. (5 pts) Create a class called `Dice` that accepts a single argument called `number_of_dice`. \n",
    "\n",
    "Create an instance method called `roll`. \n",
    "\n",
    "`roll` should randomly pick a number for each die when called and print the results as a list. \n",
    "\n",
    "Create an instance of `Dice`. Then call `roll()` on your instance.\n",
    "\n",
    "Hint: Inside your class create an empty list called `dice`."
   ]
  },
  {
   "cell_type": "code",
   "execution_count": 47,
   "id": "417e11af-458f-4307-b69a-ff20a39c9855",
   "metadata": {},
   "outputs": [
    {
     "name": "stdout",
     "output_type": "stream",
     "text": [
      "2\n",
      "3\n"
     ]
    }
   ],
   "source": [
    "# Helpful starter code\n",
    "from random import randrange\n",
    "\n",
    "print(randrange(1,7)) # randomly generates a number between 1 and 6\n",
    "class Dice:\n",
    "    def _init_(self, number_of_dice):\n",
    "        self.number_of_dice = number_of_dice\n",
    "        self.dice = []\n",
    "print(randrange(1,7))"
   ]
  },
  {
   "cell_type": "markdown",
   "id": "627197ff-27e6-4839-a5c6-59cd6200d2fb",
   "metadata": {},
   "source": [
    "BONUS: (3 pts) Create a `class` called Car that accepts 3 attributes (make, model and year). \n",
    "\n",
    "In the `__init__` method give your instance those three attributes. \n",
    "\n",
    "Instantiate (create) an object that is your dream car. \n",
    "\n",
    "Print the make of your dream car using the object attributes. \n",
    "\n",
    "Then call the dir() method on your new object. (See your attrs are now included!)"
   ]
  },
  {
   "cell_type": "code",
   "execution_count": null,
   "id": "2ffb5530-620a-43e0-8c48-4c9754f1f1b3",
   "metadata": {},
   "outputs": [],
   "source": []
  }
 ],
 "metadata": {
  "kernelspec": {
   "display_name": "Python 3 (ipykernel)",
   "language": "python",
   "name": "python3"
  },
  "language_info": {
   "codemirror_mode": {
    "name": "ipython",
    "version": 3
   },
   "file_extension": ".py",
   "mimetype": "text/x-python",
   "name": "python",
   "nbconvert_exporter": "python",
   "pygments_lexer": "ipython3",
   "version": "3.12.1"
  }
 },
 "nbformat": 4,
 "nbformat_minor": 5
}
